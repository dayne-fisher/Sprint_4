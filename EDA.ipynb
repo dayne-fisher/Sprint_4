{
 "cells": [
  {
   "cell_type": "markdown",
   "metadata": {},
   "source": [
    "# Title: The number of Vehicle Ads\n",
    "# In this project, we will look at data about vehicles in the US and see the number of Ads by each vehicle and analysis what variables affect the amount of days a vehicle is on sale.\n",
    "\n",
    "# To complete this project, you will have to import some packages to start to run the data. \n",
    "# Those would be pandas, numpy, plotly.express and streamlit. \n",
    "# After running this code, we need to read the data set itself. The data is about the Ads by each vehicle in the US. \n",
    "# Once the data has been uploaded, we create a selectbox to show data filtered by each model in the data. \n",
    "# The filtered created will be able to show the data by days listed. The min and max are ran to show the max amount of time, which is 271. \n",
    "\n",
    "# We then create a histogram and a scatterplot to show different ways of analyzying the price based on the number of days listed."
   ]
  }
 ],
 "metadata": {
  "language_info": {
   "name": "python"
  }
 },
 "nbformat": 4,
 "nbformat_minor": 2
}
