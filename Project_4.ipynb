{
 "cells": [
  {
   "cell_type": "code",
   "execution_count": null,
   "id": "6f0917c0",
   "metadata": {},
   "outputs": [],
   "source": [
    "import pandas as pd\n",
    "import numpy as np\n",
    "import plotly.express as px\n",
    "import streamlit as st"
   ]
  },
  {
   "cell_type": "code",
   "execution_count": null,
   "id": "c45d76e7",
   "metadata": {},
   "outputs": [
    {
     "data": {
      "text/html": [
       "<div>\n",
       "<style scoped>\n",
       "    .dataframe tbody tr th:only-of-type {\n",
       "        vertical-align: middle;\n",
       "    }\n",
       "\n",
       "    .dataframe tbody tr th {\n",
       "        vertical-align: top;\n",
       "    }\n",
       "\n",
       "    .dataframe thead th {\n",
       "        text-align: right;\n",
       "    }\n",
       "</style>\n",
       "<table border=\"1\" class=\"dataframe\">\n",
       "  <thead>\n",
       "    <tr style=\"text-align: right;\">\n",
       "      <th></th>\n",
       "      <th>model_year</th>\n",
       "      <th>model</th>\n",
       "      <th>condition</th>\n",
       "      <th>cylinders</th>\n",
       "      <th>fuel</th>\n",
       "      <th>odometer</th>\n",
       "      <th>transmission</th>\n",
       "      <th>type</th>\n",
       "      <th>paint_color</th>\n",
       "      <th>is_4wd</th>\n",
       "      <th>date_posted</th>\n",
       "      <th>days_listed</th>\n",
       "    </tr>\n",
       "  </thead>\n",
       "  <tbody>\n",
       "    <tr>\n",
       "      <th>0</th>\n",
       "      <td>2011.0</td>\n",
       "      <td>bmw x5</td>\n",
       "      <td>good</td>\n",
       "      <td>6.0</td>\n",
       "      <td>gas</td>\n",
       "      <td>145000.0</td>\n",
       "      <td>automatic</td>\n",
       "      <td>SUV</td>\n",
       "      <td>NaN</td>\n",
       "      <td>1.0</td>\n",
       "      <td>2018-06-23</td>\n",
       "      <td>19</td>\n",
       "    </tr>\n",
       "    <tr>\n",
       "      <th>1</th>\n",
       "      <td>NaN</td>\n",
       "      <td>ford f-150</td>\n",
       "      <td>good</td>\n",
       "      <td>6.0</td>\n",
       "      <td>gas</td>\n",
       "      <td>88705.0</td>\n",
       "      <td>automatic</td>\n",
       "      <td>pickup</td>\n",
       "      <td>white</td>\n",
       "      <td>1.0</td>\n",
       "      <td>2018-10-19</td>\n",
       "      <td>50</td>\n",
       "    </tr>\n",
       "    <tr>\n",
       "      <th>2</th>\n",
       "      <td>2013.0</td>\n",
       "      <td>hyundai sonata</td>\n",
       "      <td>like new</td>\n",
       "      <td>4.0</td>\n",
       "      <td>gas</td>\n",
       "      <td>110000.0</td>\n",
       "      <td>automatic</td>\n",
       "      <td>sedan</td>\n",
       "      <td>red</td>\n",
       "      <td>NaN</td>\n",
       "      <td>2019-02-07</td>\n",
       "      <td>79</td>\n",
       "    </tr>\n",
       "    <tr>\n",
       "      <th>3</th>\n",
       "      <td>2003.0</td>\n",
       "      <td>ford f-150</td>\n",
       "      <td>fair</td>\n",
       "      <td>8.0</td>\n",
       "      <td>gas</td>\n",
       "      <td>NaN</td>\n",
       "      <td>automatic</td>\n",
       "      <td>pickup</td>\n",
       "      <td>NaN</td>\n",
       "      <td>NaN</td>\n",
       "      <td>2019-03-22</td>\n",
       "      <td>9</td>\n",
       "    </tr>\n",
       "    <tr>\n",
       "      <th>4</th>\n",
       "      <td>2017.0</td>\n",
       "      <td>chrysler 200</td>\n",
       "      <td>excellent</td>\n",
       "      <td>4.0</td>\n",
       "      <td>gas</td>\n",
       "      <td>80903.0</td>\n",
       "      <td>automatic</td>\n",
       "      <td>sedan</td>\n",
       "      <td>black</td>\n",
       "      <td>NaN</td>\n",
       "      <td>2019-04-02</td>\n",
       "      <td>28</td>\n",
       "    </tr>\n",
       "  </tbody>\n",
       "</table>\n",
       "</div>"
      ],
      "text/plain": [
       "   model_year           model  condition  cylinders fuel  odometer  \\\n",
       "0      2011.0          bmw x5       good        6.0  gas  145000.0   \n",
       "1         NaN      ford f-150       good        6.0  gas   88705.0   \n",
       "2      2013.0  hyundai sonata   like new        4.0  gas  110000.0   \n",
       "3      2003.0      ford f-150       fair        8.0  gas       NaN   \n",
       "4      2017.0    chrysler 200  excellent        4.0  gas   80903.0   \n",
       "\n",
       "  transmission    type paint_color  is_4wd date_posted  days_listed  \n",
       "0    automatic     SUV         NaN     1.0  2018-06-23           19  \n",
       "1    automatic  pickup       white     1.0  2018-10-19           50  \n",
       "2    automatic   sedan         red     NaN  2019-02-07           79  \n",
       "3    automatic  pickup         NaN     NaN  2019-03-22            9  \n",
       "4    automatic   sedan       black     NaN  2019-04-02           28  "
      ]
     },
     "execution_count": 69,
     "metadata": {},
     "output_type": "execute_result"
    }
   ],
   "source": [
    "# Title: The number of Vehicle Ads\n",
    "# In this project, we will look at data about vehicles in the US and see the number of Ads by each vehicle and analysis what variables affect the amount of days a vehicle is on sale.\n",
    "\n",
    "# To complete this project, you will have to import some packages to start to run the data. \n",
    "# Those would be pandas, numpy, plotly.express and streamlit. \n",
    "# After running this code, we need to read the data set itself. The data is about the Ads by each vehicle in the US. \n",
    "# Once the data has been uploaded, we create a selectbox to show data filtered by each model in the data. \n",
    "\n",
    "df = pd.read_csv('vehicles_us.csv')\n",
    "df = df.drop(df.columns[0], axis=1)\n",
    "df.head()\n"
   ]
  },
  {
   "cell_type": "code",
   "execution_count": null,
   "id": "030709e4",
   "metadata": {},
   "outputs": [
    {
     "name": "stdout",
     "output_type": "stream",
     "text": [
      "0\n",
      "271\n"
     ]
    }
   ],
   "source": [
    "\n",
    "model_choice = df['model'].unique()\n",
    "selected_manu = st.selectbox('Select a model', model_choice )\n",
    "min_days, max_days = int(df['days_listed'].min()), int(df['days_listed'].max())\n",
    "print(df['days_listed'].min())\n",
    "print(df['days_listed'].max())\n",
    "\n",
    "# The filtered created will be able to show the data by days listed. The min and max are ran to show the max amount of time, which is 271. "
   ]
  },
  {
   "cell_type": "code",
   "execution_count": null,
   "id": "4e89bf1c",
   "metadata": {},
   "outputs": [],
   "source": [
    "days_range = st.slider(\"Choose Number of Days Posted\", value=(min_days, max_days), min_value=min_days,max_value= max_days)\n",
    "\n",
    "actual_range = list(range(days_range[0], days_range[1]+1))\n",
    "\n",
    "df_filtered = df[ (df.model == selected_manu) & (df.model_year.isin(list(actual_range)) )]\n",
    "\n",
    "df.duplicated().sum()\n",
    "\n",
    "df.isna().sum()\n"
   ]
  },
  {
   "cell_type": "code",
   "execution_count": null,
   "id": "da6592bb",
   "metadata": {},
   "outputs": [
    {
     "data": {
      "text/plain": [
       "DeltaGenerator()"
      ]
     },
     "execution_count": 77,
     "metadata": {},
     "output_type": "execute_result"
    }
   ],
   "source": [
    "st.header('Days Posted analysis')\n",
    "\n",
    "list_for_hist = ['condition','model_year']\n",
    "\n",
    "selected_var = st.selectbox('Filter for Days Posted Difference',list_for_hist)\n",
    "\n",
    "fig1 = px.histogram(df, x=\"days_listed\", color= selected_var)\n",
    "fig1.update_layout(title = \"<b> Split of Days Posted by {}</b>\".format(selected_var))\n",
    "st.plotly_chart(fig1)\n",
    "\n",
    "# We then create a histogram and a scatterplot to show different ways of analyzying the days posted based on the condition and model year listed."
   ]
  },
  {
   "cell_type": "code",
   "execution_count": null,
   "id": "9226af67",
   "metadata": {},
   "outputs": [
    {
     "data": {
      "text/html": [
       "<div>\n",
       "<style scoped>\n",
       "    .dataframe tbody tr th:only-of-type {\n",
       "        vertical-align: middle;\n",
       "    }\n",
       "\n",
       "    .dataframe tbody tr th {\n",
       "        vertical-align: top;\n",
       "    }\n",
       "\n",
       "    .dataframe thead th {\n",
       "        text-align: right;\n",
       "    }\n",
       "</style>\n",
       "<table border=\"1\" class=\"dataframe\">\n",
       "  <thead>\n",
       "    <tr style=\"text-align: right;\">\n",
       "      <th></th>\n",
       "      <th>model_year</th>\n",
       "      <th>model</th>\n",
       "      <th>condition</th>\n",
       "      <th>cylinders</th>\n",
       "      <th>fuel</th>\n",
       "      <th>odometer</th>\n",
       "      <th>transmission</th>\n",
       "      <th>type</th>\n",
       "      <th>paint_color</th>\n",
       "      <th>is_4wd</th>\n",
       "      <th>date_posted</th>\n",
       "      <th>days_listed</th>\n",
       "      <th>age</th>\n",
       "    </tr>\n",
       "  </thead>\n",
       "  <tbody>\n",
       "    <tr>\n",
       "      <th>0</th>\n",
       "      <td>2011.0</td>\n",
       "      <td>bmw x5</td>\n",
       "      <td>good</td>\n",
       "      <td>6.0</td>\n",
       "      <td>gas</td>\n",
       "      <td>145000.0</td>\n",
       "      <td>automatic</td>\n",
       "      <td>SUV</td>\n",
       "      <td>NaN</td>\n",
       "      <td>1.0</td>\n",
       "      <td>2018-06-23</td>\n",
       "      <td>19</td>\n",
       "      <td>13.0</td>\n",
       "    </tr>\n",
       "    <tr>\n",
       "      <th>1</th>\n",
       "      <td>NaN</td>\n",
       "      <td>ford f-150</td>\n",
       "      <td>good</td>\n",
       "      <td>6.0</td>\n",
       "      <td>gas</td>\n",
       "      <td>88705.0</td>\n",
       "      <td>automatic</td>\n",
       "      <td>pickup</td>\n",
       "      <td>white</td>\n",
       "      <td>1.0</td>\n",
       "      <td>2018-10-19</td>\n",
       "      <td>50</td>\n",
       "      <td>NaN</td>\n",
       "    </tr>\n",
       "    <tr>\n",
       "      <th>2</th>\n",
       "      <td>2013.0</td>\n",
       "      <td>hyundai sonata</td>\n",
       "      <td>like new</td>\n",
       "      <td>4.0</td>\n",
       "      <td>gas</td>\n",
       "      <td>110000.0</td>\n",
       "      <td>automatic</td>\n",
       "      <td>sedan</td>\n",
       "      <td>red</td>\n",
       "      <td>NaN</td>\n",
       "      <td>2019-02-07</td>\n",
       "      <td>79</td>\n",
       "      <td>11.0</td>\n",
       "    </tr>\n",
       "    <tr>\n",
       "      <th>3</th>\n",
       "      <td>2003.0</td>\n",
       "      <td>ford f-150</td>\n",
       "      <td>fair</td>\n",
       "      <td>8.0</td>\n",
       "      <td>gas</td>\n",
       "      <td>NaN</td>\n",
       "      <td>automatic</td>\n",
       "      <td>pickup</td>\n",
       "      <td>NaN</td>\n",
       "      <td>NaN</td>\n",
       "      <td>2019-03-22</td>\n",
       "      <td>9</td>\n",
       "      <td>21.0</td>\n",
       "    </tr>\n",
       "    <tr>\n",
       "      <th>4</th>\n",
       "      <td>2017.0</td>\n",
       "      <td>chrysler 200</td>\n",
       "      <td>excellent</td>\n",
       "      <td>4.0</td>\n",
       "      <td>gas</td>\n",
       "      <td>80903.0</td>\n",
       "      <td>automatic</td>\n",
       "      <td>sedan</td>\n",
       "      <td>black</td>\n",
       "      <td>NaN</td>\n",
       "      <td>2019-04-02</td>\n",
       "      <td>28</td>\n",
       "      <td>7.0</td>\n",
       "    </tr>\n",
       "  </tbody>\n",
       "</table>\n",
       "</div>"
      ],
      "text/plain": [
       "   model_year           model  condition  cylinders fuel  odometer  \\\n",
       "0      2011.0          bmw x5       good        6.0  gas  145000.0   \n",
       "1         NaN      ford f-150       good        6.0  gas   88705.0   \n",
       "2      2013.0  hyundai sonata   like new        4.0  gas  110000.0   \n",
       "3      2003.0      ford f-150       fair        8.0  gas       NaN   \n",
       "4      2017.0    chrysler 200  excellent        4.0  gas   80903.0   \n",
       "\n",
       "  transmission    type paint_color  is_4wd date_posted  days_listed   age  \n",
       "0    automatic     SUV         NaN     1.0  2018-06-23           19  13.0  \n",
       "1    automatic  pickup       white     1.0  2018-10-19           50   NaN  \n",
       "2    automatic   sedan         red     NaN  2019-02-07           79  11.0  \n",
       "3    automatic  pickup         NaN     NaN  2019-03-22            9  21.0  \n",
       "4    automatic   sedan       black     NaN  2019-04-02           28   7.0  "
      ]
     },
     "execution_count": 79,
     "metadata": {},
     "output_type": "execute_result"
    }
   ],
   "source": [
    "df['age'] = 2024 - df['model_year']\n",
    "df.head()"
   ]
  },
  {
   "cell_type": "code",
   "execution_count": null,
   "id": "7ab40c6a",
   "metadata": {},
   "outputs": [],
   "source": [
    "def age_category(x):\n",
    "    if x<5: return '<5'\n",
    "    elif  x>=5 and x<10: return '5-10'\n",
    "    elif x>=10 and x<20: return '10-20'\n",
    "    else: return '>20'\n",
    "\n",
    "df['age_category'] = df['age'].apply(age_category)"
   ]
  },
  {
   "cell_type": "code",
   "execution_count": null,
   "id": "abe5965b",
   "metadata": {},
   "outputs": [],
   "source": [
    "list_for_scatter = [\"paint_color\", \"is_4wd\", \"type\"]"
   ]
  },
  {
   "cell_type": "code",
   "execution_count": null,
   "id": "c4fd62e7",
   "metadata": {},
   "outputs": [],
   "source": [
    "choice_for_scatter = st.selectbox('Price depending on', list_for_scatter)"
   ]
  },
  {
   "cell_type": "code",
   "execution_count": null,
   "id": "880a448a",
   "metadata": {},
   "outputs": [
    {
     "data": {
      "text/plain": [
       "DeltaGenerator()"
      ]
     },
     "execution_count": 84,
     "metadata": {},
     "output_type": "execute_result"
    }
   ],
   "source": [
    "fig2 = px.scatter(df, x='days_listed', y= choice_for_scatter, color = \"age_category\", hover_data= [\"model_year\"])\n",
    "fig2.update_layout(title = \"<b> Days Listed vs {}</b>\".format(choice_for_scatter))\n",
    "st.plotly_chart(fig2)"
   ]
  },
  {
   "cell_type": "code",
   "execution_count": null,
   "id": "ee51035b",
   "metadata": {},
   "outputs": [],
   "source": [
    "print(\"\"\"After viewing the data, we can tell that that the odometer number influences the number of days listed. \"\"\")\n",
    "\n",
    "\n",
    "print(\"\"\" Overall, even though other factors come into play about how long a vehicle is listed, the condition has the greastest impact of the amount of days listed for vehicles in the US.  \"\"\")"
   ]
  },
  {
   "cell_type": "code",
   "execution_count": null,
   "id": "21ab8f2d",
   "metadata": {},
   "outputs": [],
   "source": []
  }
 ],
 "metadata": {
  "ExecuteTimeLog": [
   {
    "duration": 537,
    "start_time": "2024-10-12T23:15:06.124Z"
   },
   {
    "duration": 70,
    "start_time": "2024-10-12T23:16:24.650Z"
   },
   {
    "duration": 380,
    "start_time": "2024-10-12T23:16:30.708Z"
   },
   {
    "duration": 179,
    "start_time": "2024-10-12T23:17:17.719Z"
   },
   {
    "duration": 369,
    "start_time": "2024-10-12T23:19:40.007Z"
   },
   {
    "duration": 5,
    "start_time": "2024-10-12T23:20:02.387Z"
   },
   {
    "duration": 17,
    "start_time": "2024-10-12T23:20:11.034Z"
   },
   {
    "duration": 560,
    "start_time": "2024-10-12T23:24:08.428Z"
   },
   {
    "duration": 0,
    "start_time": "2024-10-12T23:24:08.990Z"
   },
   {
    "duration": 0,
    "start_time": "2024-10-12T23:24:08.991Z"
   },
   {
    "duration": 14,
    "start_time": "2024-10-12T23:24:30.998Z"
   },
   {
    "duration": 576,
    "start_time": "2024-10-12T23:26:25.318Z"
   },
   {
    "duration": 0,
    "start_time": "2024-10-12T23:26:25.896Z"
   },
   {
    "duration": 0,
    "start_time": "2024-10-12T23:26:25.897Z"
   }
  ],
  "kernelspec": {
   "display_name": "Python 3",
   "language": "python",
   "name": "python3"
  },
  "language_info": {
   "codemirror_mode": {
    "name": "ipython",
    "version": 3
   },
   "file_extension": ".py",
   "mimetype": "text/x-python",
   "name": "python",
   "nbconvert_exporter": "python",
   "pygments_lexer": "ipython3",
   "version": "3.12.4"
  },
  "toc": {
   "base_numbering": 1,
   "nav_menu": {},
   "number_sections": true,
   "sideBar": true,
   "skip_h1_title": true,
   "title_cell": "Table of Contents",
   "title_sidebar": "Contents",
   "toc_cell": false,
   "toc_position": {},
   "toc_section_display": true,
   "toc_window_display": false
  }
 },
 "nbformat": 4,
 "nbformat_minor": 5
}
