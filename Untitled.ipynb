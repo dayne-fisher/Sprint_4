{
 "cells": [
  {
   "cell_type": "code",
   "execution_count": 1,
   "id": "6f0917c0",
   "metadata": {},
   "outputs": [
    {
     "ename": "ModuleNotFoundError",
     "evalue": "No module named 'cars_workshop_1'",
     "output_type": "error",
     "traceback": [
      "\u001b[0;31m---------------------------------------------------------------------------\u001b[0m",
      "\u001b[0;31mModuleNotFoundError\u001b[0m                       Traceback (most recent call last)",
      "Cell \u001b[0;32mIn[1], line 4\u001b[0m\n\u001b[1;32m      2\u001b[0m \u001b[38;5;28;01mimport\u001b[39;00m \u001b[38;5;21;01mnumpy\u001b[39;00m \u001b[38;5;28;01mas\u001b[39;00m \u001b[38;5;21;01mnp\u001b[39;00m\n\u001b[1;32m      3\u001b[0m \u001b[38;5;28;01mimport\u001b[39;00m \u001b[38;5;21;01mplotly\u001b[39;00m\u001b[38;5;21;01m.\u001b[39;00m\u001b[38;5;21;01mexpress\u001b[39;00m \u001b[38;5;28;01mas\u001b[39;00m \u001b[38;5;21;01mpx\u001b[39;00m\n\u001b[0;32m----> 4\u001b[0m \u001b[38;5;28;01mimport\u001b[39;00m \u001b[38;5;21;01mcars_workshop_1\u001b[39;00m\u001b[38;5;21;01m.\u001b[39;00m\u001b[38;5;21;01mcsv\u001b[39;00m\n",
      "\u001b[0;31mModuleNotFoundError\u001b[0m: No module named 'cars_workshop_1'"
     ]
    }
   ],
   "source": [
    "import pandas as pd\n",
    "import numpy as np\n",
    "import plotly.express as px\n",
    "import "
   ]
  },
  {
   "cell_type": "code",
   "execution_count": null,
   "id": "cc363a2c",
   "metadata": {},
   "outputs": [],
   "source": [
    "st.header('Market of used cars.Original data')\n",
    "st.write('Filter the data below to see the ads by manufacturer')"
   ]
  },
  {
   "cell_type": "code",
   "execution_count": null,
   "id": "c45d76e7",
   "metadata": {},
   "outputs": [],
   "source": [
    "df = pd.read_csv('cars_workshop.csv')\n",
    "df = df.drop(df.columns[0], axis=1)"
   ]
  },
  {
   "cell_type": "code",
   "execution_count": null,
   "id": "030709e4",
   "metadata": {},
   "outputs": [],
   "source": [
    "manufacturer_choise = df['manufacturer_name'].unique()\n",
    "\n",
    "selected_manu = st.selectbox('Select an manufactirar', manufacturer_choise )\n",
    "\n",
    "min_year, max_year = int(df['year_produced'].min()), int(df['year_produced'].max())"
   ]
  },
  {
   "cell_type": "code",
   "execution_count": null,
   "id": "4e89bf1c",
   "metadata": {},
   "outputs": [],
   "source": [
    "year_range = st.slider(\"Choose years\", value=(min_year, max_year), min_value=min_year,max_value= max_year)\n",
    "\n",
    "\n",
    "actual_range = list(range(year_range[0], year_range[1]+1))\n",
    "\n",
    "\n",
    "df_filtered = df[ (df.manufacturer_name == selected_manu) & (df.year_produced.isin(list(actual_range)) )]"
   ]
  },
  {
   "cell_type": "code",
   "execution_count": null,
   "id": "da6592bb",
   "metadata": {},
   "outputs": [],
   "source": [
    "st.header('Price analysis')\n",
    "st.write(\"\"\"\n",
    "###### Let's analyze what influences price the most. We will check how distibution of price varies depending on  transmission, engine or body type and state\n",
    "\"\"\")\n",
    "\n",
    "list_for_hist = ['transmission','engine_type','body_type','state']\n",
    "\n",
    "selected_type = st.selectbox('Split for price distribution',list_for_hist)\n",
    "\n",
    "fig1 = px.histogram(df, x=\"price_usd\",color = selected_type )\n",
    "fig1.update_layout(title= "
   ]
  },
  {
   "cell_type": "code",
   "execution_count": null,
   "id": "86af8a00",
   "metadata": {},
   "outputs": [],
   "source": []
  },
  {
   "cell_type": "code",
   "execution_count": null,
   "id": "9226af67",
   "metadata": {},
   "outputs": [],
   "source": []
  },
  {
   "cell_type": "code",
   "execution_count": null,
   "id": "7ab40c6a",
   "metadata": {},
   "outputs": [],
   "source": []
  },
  {
   "cell_type": "code",
   "execution_count": null,
   "id": "abe5965b",
   "metadata": {},
   "outputs": [],
   "source": []
  },
  {
   "cell_type": "code",
   "execution_count": null,
   "id": "c4fd62e7",
   "metadata": {},
   "outputs": [],
   "source": []
  },
  {
   "cell_type": "code",
   "execution_count": null,
   "id": "880a448a",
   "metadata": {},
   "outputs": [],
   "source": []
  },
  {
   "cell_type": "code",
   "execution_count": null,
   "id": "ee51035b",
   "metadata": {},
   "outputs": [],
   "source": []
  },
  {
   "cell_type": "code",
   "execution_count": null,
   "id": "21ab8f2d",
   "metadata": {},
   "outputs": [],
   "source": []
  }
 ],
 "metadata": {
  "ExecuteTimeLog": [
   {
    "duration": 537,
    "start_time": "2024-10-12T23:15:06.124Z"
   },
   {
    "duration": 70,
    "start_time": "2024-10-12T23:16:24.650Z"
   },
   {
    "duration": 380,
    "start_time": "2024-10-12T23:16:30.708Z"
   },
   {
    "duration": 179,
    "start_time": "2024-10-12T23:17:17.719Z"
   },
   {
    "duration": 369,
    "start_time": "2024-10-12T23:19:40.007Z"
   },
   {
    "duration": 5,
    "start_time": "2024-10-12T23:20:02.387Z"
   },
   {
    "duration": 17,
    "start_time": "2024-10-12T23:20:11.034Z"
   },
   {
    "duration": 560,
    "start_time": "2024-10-12T23:24:08.428Z"
   },
   {
    "duration": 0,
    "start_time": "2024-10-12T23:24:08.990Z"
   },
   {
    "duration": 0,
    "start_time": "2024-10-12T23:24:08.991Z"
   },
   {
    "duration": 14,
    "start_time": "2024-10-12T23:24:30.998Z"
   },
   {
    "duration": 576,
    "start_time": "2024-10-12T23:26:25.318Z"
   },
   {
    "duration": 0,
    "start_time": "2024-10-12T23:26:25.896Z"
   },
   {
    "duration": 0,
    "start_time": "2024-10-12T23:26:25.897Z"
   }
  ],
  "kernelspec": {
   "display_name": "Python 3",
   "language": "python",
   "name": "python3"
  },
  "language_info": {
   "codemirror_mode": {
    "name": "ipython",
    "version": 3
   },
   "file_extension": ".py",
   "mimetype": "text/x-python",
   "name": "python",
   "nbconvert_exporter": "python",
   "pygments_lexer": "ipython3",
   "version": "3.12.4"
  },
  "toc": {
   "base_numbering": 1,
   "nav_menu": {},
   "number_sections": true,
   "sideBar": true,
   "skip_h1_title": true,
   "title_cell": "Table of Contents",
   "title_sidebar": "Contents",
   "toc_cell": false,
   "toc_position": {},
   "toc_section_display": true,
   "toc_window_display": false
  }
 },
 "nbformat": 4,
 "nbformat_minor": 5
}
